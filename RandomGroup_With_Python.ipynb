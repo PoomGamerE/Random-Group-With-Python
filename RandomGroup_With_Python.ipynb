{
  "nbformat": 4,
  "nbformat_minor": 0,
  "metadata": {
    "colab": {
      "name": "RandomGroup With Python.ipynb",
      "provenance": [],
      "authorship_tag": "ABX9TyPUnjTAv8jVsLNV0PgxoQ3i",
      "include_colab_link": true
    },
    "kernelspec": {
      "name": "python3",
      "display_name": "Python 3"
    }
  },
  "cells": [
    {
      "cell_type": "markdown",
      "metadata": {
        "id": "view-in-github",
        "colab_type": "text"
      },
      "source": [
        "<a href=\"https://colab.research.google.com/github/PoomGamerE/Random-Group-With-Python/blob/main/RandomGroup_With_Python.ipynb\" target=\"_parent\"><img src=\"https://colab.research.google.com/assets/colab-badge.svg\" alt=\"Open In Colab\"/></a>"
      ]
    },
    {
      "cell_type": "code",
      "metadata": {
        "colab": {
          "base_uri": "https://localhost:8080/"
        },
        "id": "pxF7aoabD35I",
        "outputId": "ab99fa38-81d6-470b-9220-bc18960565a9"
      },
      "source": [
        "import random\r\n",
        "'''\r\n",
        "สำคัญ! นี่คือโค้ดที่ค่อนข้างสมบูรณ์ของการสุ่มกลุ่ม\r\n",
        "โปรดอย่าเผลอลบเพื่อกันความผิดพลาดที่จะเกิดขึ้นด้วยครับ\r\n",
        "Update: Verion นี้มีการยัดคนเกินเข้ากลุ่มแล้ว และ \r\n",
        "ระบบเช็คคนเกินด้วยหารเอาเศษ แทนระบบ เช็คค่าไม่เท่ากับ 0'''\r\n",
        "\r\n",
        "#ส่วนนำเข้า\r\n",
        "numOfstudent = int(input(\"จำนวนนักเรียนทั้งห้องมีจำนวน: \"))\r\n",
        "NumOfGroup = int(input(\"จำนวนกลุ่มมีจำนวน: \"))\r\n",
        "numOfstudentPerGroup = numOfstudent / NumOfGroup\r\n",
        "print(\"จำนวนนักเรียนต่อกลุ่มมีจำนวน:\", int(numOfstudentPerGroup))\r\n",
        "\r\n",
        "#ตัวแปรเก็บเลขที่\r\n",
        "studentnumber = []\r\n",
        "for x in range(numOfstudent):\r\n",
        "    studentnumber.append(x + 1)\r\n",
        "\r\n",
        "#ตัวแปรของระบบสุ่ม\r\n",
        "AllGroup = []  #ใส่ทั้งหมด แต่มีแถวตอน\r\n",
        "Group = []  #ตะกร้าใส่เลขที่\r\n",
        "NumGroupOfRandom = 0\r\n",
        "\r\n",
        "#ระบบสุ่ม\r\n",
        "for p in range(int(NumOfGroup)):\r\n",
        "    for s in range(int(numOfstudentPerGroup)):\r\n",
        "        RandomN = int(random.choice(studentnumber))  #สุ่มค่าจากตัวแปร\r\n",
        "        Group.append(RandomN)  #เก็บข้อมูลไปยังกลุ่ม\r\n",
        "        studentnumber.remove(RandomN)  #ลบตัวเลขออกจากตัวแปร\r\n",
        "    NumGroupOfRandom = NumGroupOfRandom + 1\r\n",
        "    AllGroup.append(Group.copy())\r\n",
        "    Group.clear()\r\n",
        "\r\n",
        "#Check จำนวนคนเกิน\r\n",
        "Limit = True\r\n",
        "CheckMax = numOfstudent % NumOfGroup\r\n",
        "\r\n",
        "if CheckMax == 0:\r\n",
        "    Limit = False\r\n",
        "\r\n",
        "#ระบบสุ่ม (กรณีที่มีคนเกิน)\r\n",
        "if Limit == True:\r\n",
        "    OverStudent = numOfstudent % NumOfGroup  #จำนวนคนที่เกิน\r\n",
        "    print(\"จำนวนคนเกินที่จะถูกบังคับเข้ากลุ่ม:\", OverStudent)\r\n",
        "\r\n",
        "    for Count in range(int(OverStudent)):\r\n",
        "        RandomN = int(random.choice(studentnumber))  #สุ่มค่าจากตัวแปร\r\n",
        "        AllGroup[Count].append(RandomN)  #เก็บข้อมูลไปยังกลุ่ม\r\n",
        "        studentnumber.remove(RandomN)  #ลบตัวเลขออกจากตัวแปร\r\n",
        "\r\n",
        "#แสดงคนที่อยู่ในแต่ละกลุ่ม\r\n",
        "for y in range(int(NumOfGroup)):\r\n",
        "    print(\"กลุ่ม \", y + 1, \"(\", len(AllGroup[y]), \"คน) ได้แก่เลขที่:\",\r\n",
        "          AllGroup[y])\r\n",
        "\r\n",
        "#เช็คข้อมูลที่เก็บไว้แต่ละกลุ่ม Output\r\n",
        "SearchG = int(input(\"ต้องการเช็คกลุ่มไหน: \"))\r\n",
        "print(\"กลุ่ม \", SearchG, \"(\", len(AllGroup[SearchG - 1]), \"คน) ได้แก่เลขที่:\",\r\n",
        "      AllGroup[SearchG - 1])\r\n"
      ],
      "execution_count": 1,
      "outputs": [
        {
          "output_type": "stream",
          "text": [
            "จำนวนนักเรียนทั้งห้องมีจำนวน: 36\n",
            "จำนวนกลุ่มมีจำนวน: 6\n",
            "จำนวนนักเรียนต่อกลุ่มมีจำนวน: 6\n",
            "กลุ่ม  1 ( 6 คน) ได้แก่เลขที่: [6, 9, 31, 7, 30, 14]\n",
            "กลุ่ม  2 ( 6 คน) ได้แก่เลขที่: [15, 23, 2, 8, 22, 27]\n",
            "กลุ่ม  3 ( 6 คน) ได้แก่เลขที่: [25, 21, 35, 36, 34, 19]\n",
            "กลุ่ม  4 ( 6 คน) ได้แก่เลขที่: [13, 4, 24, 26, 18, 11]\n",
            "กลุ่ม  5 ( 6 คน) ได้แก่เลขที่: [3, 10, 16, 1, 29, 32]\n",
            "กลุ่ม  6 ( 6 คน) ได้แก่เลขที่: [28, 20, 17, 33, 5, 12]\n",
            "ต้องการเช็คกลุ่มไหน: 1\n",
            "กลุ่ม  1 ( 6 คน) ได้แก่เลขที่: [6, 9, 31, 7, 30, 14]\n"
          ],
          "name": "stdout"
        }
      ]
    }
  ]
}